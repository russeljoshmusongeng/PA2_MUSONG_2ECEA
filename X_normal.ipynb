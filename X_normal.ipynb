{
 "cells": [
  {
   "cell_type": "markdown",
   "id": "b5f2d72f-175f-49b8-9311-3ef840d0c72c",
   "metadata": {},
   "source": [
    "NORMALIZATION PROBLEM"
   ]
  },
  {
   "cell_type": "code",
   "execution_count": 2,
   "id": "0e84edb9-8de1-4f3f-87f9-d1cb02b3d567",
   "metadata": {},
   "outputs": [],
   "source": [
    "import numpy as np"
   ]
  },
  {
   "cell_type": "code",
   "execution_count": 3,
   "id": "75079c2f-c6b3-4a53-9997-ded0bbdb9e25",
   "metadata": {},
   "outputs": [
    {
     "name": "stdout",
     "output_type": "stream",
     "text": [
      "Original X:\n",
      " [[0.42030315 0.40046118 0.93681447 0.20570728 0.13405735]\n",
      " [0.68117391 0.73909913 0.44345038 0.42459215 0.01624564]\n",
      " [0.55781798 0.99784568 0.54429756 0.27185666 0.60960441]\n",
      " [0.87547755 0.9195077  0.64047702 0.31495671 0.16358445]\n",
      " [0.41824112 0.25076977 0.77815131 0.38147443 0.82998255]]\n",
      "\n",
      "Normalized X:\n",
      " [[-0.36271049 -0.43619703  1.55023589 -1.15748572 -1.42284771]\n",
      " [ 0.60344795  0.81797925 -0.27698266 -0.3468258  -1.85917406]\n",
      " [ 0.14658812  1.77627048  0.09651399 -0.9124955   0.33838382]\n",
      " [ 1.32306907  1.48613868  0.45272333 -0.75287057 -1.31349146]\n",
      " [-0.37034742 -0.9905927   0.96261253 -0.5065162   1.1545742 ]]\n"
     ]
    }
   ],
   "source": [
    "X = np.random.rand(5,5) #Creating random 5x5 ndarray\n",
    "\n",
    "#Compute mean and standard dev\n",
    "mean = X.mean() \n",
    "std = X.std()\n",
    "\n",
    "#Normalize Formula\n",
    "X_normalized = (X - mean) / std\n",
    "\n",
    "#File to save\n",
    "np.save(\"X_normalized .npy\", X_normalized)\n",
    "\n",
    "#Not needed but just to show the data and results\n",
    "print(\"Original X:\\n\", X)\n",
    "print(\"\\nNormalized X:\\n\", X_normalized)"
   ]
  },
  {
   "cell_type": "markdown",
   "id": "2c923a74-e9bf-440c-ac0d-d2c8591016d5",
   "metadata": {},
   "source": [
    "DIVISIBLE BY 3 PROBLEM"
   ]
  },
  {
   "cell_type": "code",
   "execution_count": 6,
   "id": "85a7d18d-8fc2-45d3-be62-28c7566f6d75",
   "metadata": {},
   "outputs": [
    {
     "name": "stdout",
     "output_type": "stream",
     "text": [
      "\n",
      " [[    1     4     9    16    25    36    49    64    81   100]\n",
      " [  121   144   169   196   225   256   289   324   361   400]\n",
      " [  441   484   529   576   625   676   729   784   841   900]\n",
      " [  961  1024  1089  1156  1225  1296  1369  1444  1521  1600]\n",
      " [ 1681  1764  1849  1936  2025  2116  2209  2304  2401  2500]\n",
      " [ 2601  2704  2809  2916  3025  3136  3249  3364  3481  3600]\n",
      " [ 3721  3844  3969  4096  4225  4356  4489  4624  4761  4900]\n",
      " [ 5041  5184  5329  5476  5625  5776  5929  6084  6241  6400]\n",
      " [ 6561  6724  6889  7056  7225  7396  7569  7744  7921  8100]\n",
      " [ 8281  8464  8649  8836  9025  9216  9409  9604  9801 10000]]\n",
      "Divisible by 3 [   9   36   81  144  225  324  441  576  729  900 1089 1296 1521 1764\n",
      " 2025 2304 2601 2916 3249 3600 3969 4356 4761 5184 5625 6084 6561 7056\n",
      " 7569 8100 8649 9216 9801]\n"
     ]
    }
   ],
   "source": [
    "\n",
    "A = np.arange(1,101) ** 2 #creates a sequence, then squaring it after\n",
    "A = A.reshape(10,10) #reshaping to 10x10 (rows and columns)\n",
    "\n",
    "div_by_3= A[A % 3 ==0] # Using the elements that are divisble by 3 (Specifically boolean type)\n",
    "\n",
    "np.save(\"div_by_3.npy\",div_by_3) # Saving the results to a file\n",
    "\n",
    "#Not needed but just to show the data and results\n",
    "print(\"\\n\",A)\n",
    "print(\"Divisible by 3\", div_by_3)"
   ]
  },
  {
   "cell_type": "code",
   "execution_count": null,
   "id": "257d0fd5-1da5-4f19-b797-0f3dcce1709f",
   "metadata": {},
   "outputs": [],
   "source": []
  }
 ],
 "metadata": {
  "kernelspec": {
   "display_name": "Python 3 (ipykernel)",
   "language": "python",
   "name": "python3"
  },
  "language_info": {
   "codemirror_mode": {
    "name": "ipython",
    "version": 3
   },
   "file_extension": ".py",
   "mimetype": "text/x-python",
   "name": "python",
   "nbconvert_exporter": "python",
   "pygments_lexer": "ipython3",
   "version": "3.13.5"
  }
 },
 "nbformat": 4,
 "nbformat_minor": 5
}
